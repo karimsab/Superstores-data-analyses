{
 "cells": [
  {
   "cell_type": "markdown",
   "id": "1efaec33-fb54-4796-a191-200e6f363022",
   "metadata": {},
   "source": [
    "# Superstores Analyses"
   ]
  },
  {
   "cell_type": "markdown",
   "id": "87e26725-d68d-425c-9e81-2144170eea3c",
   "metadata": {},
   "source": [
    "## 1. Le dataset"
   ]
  },
  {
   "cell_type": "code",
   "execution_count": 1,
   "id": "95fb8b96-c65c-4ad5-8b47-d29b611839f0",
   "metadata": {
    "tags": []
   },
   "outputs": [
    {
     "data": {
      "text/html": [
       "<style type='text/css'>\n",
       ".datatable table.frame { margin-bottom: 0; }\n",
       ".datatable table.frame thead { border-bottom: none; }\n",
       ".datatable table.frame tr.coltypes td {  color: #FFFFFF;  line-height: 6px;  padding: 0 0.5em;}\n",
       ".datatable .bool    { background: #DDDD99; }\n",
       ".datatable .object  { background: #565656; }\n",
       ".datatable .int     { background: #5D9E5D; }\n",
       ".datatable .float   { background: #4040CC; }\n",
       ".datatable .str     { background: #CC4040; }\n",
       ".datatable .time    { background: #40CC40; }\n",
       ".datatable .row_index {  background: var(--jp-border-color3);  border-right: 1px solid var(--jp-border-color0);  color: var(--jp-ui-font-color3);  font-size: 9px;}\n",
       ".datatable .frame tbody td { text-align: left; }\n",
       ".datatable .frame tr.coltypes .row_index {  background: var(--jp-border-color0);}\n",
       ".datatable th:nth-child(2) { padding-left: 12px; }\n",
       ".datatable .hellipsis {  color: var(--jp-cell-editor-border-color);}\n",
       ".datatable .vellipsis {  background: var(--jp-layout-color0);  color: var(--jp-cell-editor-border-color);}\n",
       ".datatable .na {  color: var(--jp-cell-editor-border-color);  font-size: 80%;}\n",
       ".datatable .sp {  opacity: 0.25;}\n",
       ".datatable .footer { font-size: 9px; }\n",
       ".datatable .frame_dimensions {  background: var(--jp-border-color3);  border-top: 1px solid var(--jp-border-color0);  color: var(--jp-ui-font-color3);  display: inline-block;  opacity: 0.6;  padding: 1px 10px 1px 5px;}\n",
       "</style>\n"
      ],
      "text/plain": [
       "<IPython.core.display.HTML object>"
      ]
     },
     "metadata": {},
     "output_type": "display_data"
    },
    {
     "name": "stdout",
     "output_type": "stream",
     "text": [
      "<class 'pandas.core.frame.DataFrame'>\n",
      "Int64Index: 9994 entries, 1 to 9994\n",
      "Data columns (total 18 columns):\n",
      " #   Column         Non-Null Count  Dtype         \n",
      "---  ------         --------------  -----         \n",
      " 0   Order ID       9994 non-null   object        \n",
      " 1   Order Date     9994 non-null   datetime64[ns]\n",
      " 2   Ship Date      9994 non-null   datetime64[ns]\n",
      " 3   Ship Mode      9994 non-null   object        \n",
      " 4   Customer ID    9994 non-null   object        \n",
      " 5   Customer Name  9994 non-null   object        \n",
      " 6   Segment        9994 non-null   object        \n",
      " 7   City           9994 non-null   object        \n",
      " 8   State          9994 non-null   object        \n",
      " 9   Region         9994 non-null   object        \n",
      " 10  Product ID     9994 non-null   object        \n",
      " 11  Category       9994 non-null   object        \n",
      " 12  Sub-Category   9994 non-null   object        \n",
      " 13  Product Name   9994 non-null   object        \n",
      " 14  Sales          9994 non-null   float64       \n",
      " 15  Quantity       9994 non-null   int64         \n",
      " 16  Discount       9994 non-null   float64       \n",
      " 17  Profit         9994 non-null   float64       \n",
      "dtypes: datetime64[ns](2), float64(3), int64(1), object(12)\n",
      "memory usage: 1.4+ MB\n",
      "None\n"
     ]
    },
    {
     "data": {
      "text/html": [
       "<div>\n",
       "<style scoped>\n",
       "    .dataframe tbody tr th:only-of-type {\n",
       "        vertical-align: middle;\n",
       "    }\n",
       "\n",
       "    .dataframe tbody tr th {\n",
       "        vertical-align: top;\n",
       "    }\n",
       "\n",
       "    .dataframe thead th {\n",
       "        text-align: right;\n",
       "    }\n",
       "</style>\n",
       "<table border=\"1\" class=\"dataframe\">\n",
       "  <thead>\n",
       "    <tr style=\"text-align: right;\">\n",
       "      <th></th>\n",
       "      <th>Order ID</th>\n",
       "      <th>Order Date</th>\n",
       "      <th>Ship Date</th>\n",
       "      <th>Ship Mode</th>\n",
       "      <th>Customer ID</th>\n",
       "      <th>Customer Name</th>\n",
       "      <th>Segment</th>\n",
       "      <th>City</th>\n",
       "      <th>State</th>\n",
       "      <th>Region</th>\n",
       "      <th>Product ID</th>\n",
       "      <th>Category</th>\n",
       "      <th>Sub-Category</th>\n",
       "      <th>Product Name</th>\n",
       "      <th>Sales</th>\n",
       "      <th>Quantity</th>\n",
       "      <th>Discount</th>\n",
       "      <th>Profit</th>\n",
       "    </tr>\n",
       "    <tr>\n",
       "      <th>Row ID</th>\n",
       "      <th></th>\n",
       "      <th></th>\n",
       "      <th></th>\n",
       "      <th></th>\n",
       "      <th></th>\n",
       "      <th></th>\n",
       "      <th></th>\n",
       "      <th></th>\n",
       "      <th></th>\n",
       "      <th></th>\n",
       "      <th></th>\n",
       "      <th></th>\n",
       "      <th></th>\n",
       "      <th></th>\n",
       "      <th></th>\n",
       "      <th></th>\n",
       "      <th></th>\n",
       "      <th></th>\n",
       "    </tr>\n",
       "  </thead>\n",
       "  <tbody>\n",
       "    <tr>\n",
       "      <th>1</th>\n",
       "      <td>CA-2016-152156</td>\n",
       "      <td>2016-11-08</td>\n",
       "      <td>2016-11-11</td>\n",
       "      <td>Second Class</td>\n",
       "      <td>CG-12520</td>\n",
       "      <td>Claire Gute</td>\n",
       "      <td>Consumer</td>\n",
       "      <td>Henderson</td>\n",
       "      <td>Kentucky</td>\n",
       "      <td>South</td>\n",
       "      <td>FUR-BO-10001798</td>\n",
       "      <td>Furniture</td>\n",
       "      <td>Bookcases</td>\n",
       "      <td>Bush Somerset Collection Bookcase</td>\n",
       "      <td>261.9600</td>\n",
       "      <td>2</td>\n",
       "      <td>0.00</td>\n",
       "      <td>41.9136</td>\n",
       "    </tr>\n",
       "    <tr>\n",
       "      <th>2</th>\n",
       "      <td>CA-2016-152156</td>\n",
       "      <td>2016-11-08</td>\n",
       "      <td>2016-11-11</td>\n",
       "      <td>Second Class</td>\n",
       "      <td>CG-12520</td>\n",
       "      <td>Claire Gute</td>\n",
       "      <td>Consumer</td>\n",
       "      <td>Henderson</td>\n",
       "      <td>Kentucky</td>\n",
       "      <td>South</td>\n",
       "      <td>FUR-CH-10000454</td>\n",
       "      <td>Furniture</td>\n",
       "      <td>Chairs</td>\n",
       "      <td>Hon Deluxe Fabric Upholstered Stacking Chairs,...</td>\n",
       "      <td>731.9400</td>\n",
       "      <td>3</td>\n",
       "      <td>0.00</td>\n",
       "      <td>219.5820</td>\n",
       "    </tr>\n",
       "    <tr>\n",
       "      <th>3</th>\n",
       "      <td>CA-2016-138688</td>\n",
       "      <td>2016-06-12</td>\n",
       "      <td>2016-06-16</td>\n",
       "      <td>Second Class</td>\n",
       "      <td>DV-13045</td>\n",
       "      <td>Darrin Van Huff</td>\n",
       "      <td>Corporate</td>\n",
       "      <td>Los Angeles</td>\n",
       "      <td>California</td>\n",
       "      <td>West</td>\n",
       "      <td>OFF-LA-10000240</td>\n",
       "      <td>Office Supplies</td>\n",
       "      <td>Labels</td>\n",
       "      <td>Self-Adhesive Address Labels for Typewriters b...</td>\n",
       "      <td>14.6200</td>\n",
       "      <td>2</td>\n",
       "      <td>0.00</td>\n",
       "      <td>6.8714</td>\n",
       "    </tr>\n",
       "    <tr>\n",
       "      <th>4</th>\n",
       "      <td>US-2015-108966</td>\n",
       "      <td>2015-10-11</td>\n",
       "      <td>2015-10-18</td>\n",
       "      <td>Standard Class</td>\n",
       "      <td>SO-20335</td>\n",
       "      <td>Sean O'Donnell</td>\n",
       "      <td>Consumer</td>\n",
       "      <td>Fort Lauderdale</td>\n",
       "      <td>Florida</td>\n",
       "      <td>South</td>\n",
       "      <td>FUR-TA-10000577</td>\n",
       "      <td>Furniture</td>\n",
       "      <td>Tables</td>\n",
       "      <td>Bretford CR4500 Series Slim Rectangular Table</td>\n",
       "      <td>957.5775</td>\n",
       "      <td>5</td>\n",
       "      <td>0.45</td>\n",
       "      <td>-383.0310</td>\n",
       "    </tr>\n",
       "    <tr>\n",
       "      <th>5</th>\n",
       "      <td>US-2015-108966</td>\n",
       "      <td>2015-10-11</td>\n",
       "      <td>2015-10-18</td>\n",
       "      <td>Standard Class</td>\n",
       "      <td>SO-20335</td>\n",
       "      <td>Sean O'Donnell</td>\n",
       "      <td>Consumer</td>\n",
       "      <td>Fort Lauderdale</td>\n",
       "      <td>Florida</td>\n",
       "      <td>South</td>\n",
       "      <td>OFF-ST-10000760</td>\n",
       "      <td>Office Supplies</td>\n",
       "      <td>Storage</td>\n",
       "      <td>Eldon Fold 'N Roll Cart System</td>\n",
       "      <td>22.3680</td>\n",
       "      <td>2</td>\n",
       "      <td>0.20</td>\n",
       "      <td>2.5164</td>\n",
       "    </tr>\n",
       "  </tbody>\n",
       "</table>\n",
       "</div>"
      ],
      "text/plain": [
       "              Order ID Order Date  Ship Date       Ship Mode Customer ID  \\\n",
       "Row ID                                                                     \n",
       "1       CA-2016-152156 2016-11-08 2016-11-11    Second Class    CG-12520   \n",
       "2       CA-2016-152156 2016-11-08 2016-11-11    Second Class    CG-12520   \n",
       "3       CA-2016-138688 2016-06-12 2016-06-16    Second Class    DV-13045   \n",
       "4       US-2015-108966 2015-10-11 2015-10-18  Standard Class    SO-20335   \n",
       "5       US-2015-108966 2015-10-11 2015-10-18  Standard Class    SO-20335   \n",
       "\n",
       "          Customer Name    Segment             City       State Region  \\\n",
       "Row ID                                                                   \n",
       "1           Claire Gute   Consumer        Henderson    Kentucky  South   \n",
       "2           Claire Gute   Consumer        Henderson    Kentucky  South   \n",
       "3       Darrin Van Huff  Corporate      Los Angeles  California   West   \n",
       "4        Sean O'Donnell   Consumer  Fort Lauderdale     Florida  South   \n",
       "5        Sean O'Donnell   Consumer  Fort Lauderdale     Florida  South   \n",
       "\n",
       "             Product ID         Category Sub-Category  \\\n",
       "Row ID                                                  \n",
       "1       FUR-BO-10001798        Furniture    Bookcases   \n",
       "2       FUR-CH-10000454        Furniture       Chairs   \n",
       "3       OFF-LA-10000240  Office Supplies       Labels   \n",
       "4       FUR-TA-10000577        Furniture       Tables   \n",
       "5       OFF-ST-10000760  Office Supplies      Storage   \n",
       "\n",
       "                                             Product Name     Sales  Quantity  \\\n",
       "Row ID                                                                          \n",
       "1                       Bush Somerset Collection Bookcase  261.9600         2   \n",
       "2       Hon Deluxe Fabric Upholstered Stacking Chairs,...  731.9400         3   \n",
       "3       Self-Adhesive Address Labels for Typewriters b...   14.6200         2   \n",
       "4           Bretford CR4500 Series Slim Rectangular Table  957.5775         5   \n",
       "5                          Eldon Fold 'N Roll Cart System   22.3680         2   \n",
       "\n",
       "        Discount    Profit  \n",
       "Row ID                      \n",
       "1           0.00   41.9136  \n",
       "2           0.00  219.5820  \n",
       "3           0.00    6.8714  \n",
       "4           0.45 -383.0310  \n",
       "5           0.20    2.5164  "
      ]
     },
     "execution_count": 1,
     "metadata": {},
     "output_type": "execute_result"
    }
   ],
   "source": [
    "#import chardet\n",
    "#with open('superstore.csv', 'rb') as rawdata:\n",
    "#    result = chardet.detect(rawdata.read(100000))\n",
    "#result\n",
    "\n",
    "\n",
    "# On importe les modules nécessaires\n",
    "import numpy as np\n",
    "import pandas as pd\n",
    "import datatable as dt\n",
    "import matplotlib.pyplot as plt\n",
    "import seaborn as sns\n",
    "import plotly.graph_objects as go\n",
    "import plotly.express as px\n",
    "import plotly.figure_factory as ff\n",
    "from plotly.subplots import make_subplots\n",
    "import plotly.io as pio\n",
    "\n",
    "pio.templates.default = \"plotly_dark\"\n",
    "\n",
    "# lecture du fichier csv et on l'applique à df\n",
    "df = pd.read_csv('superstore.csv', sep=',', encoding=\"Windows-1252\", index_col=0)\n",
    "\n",
    "# Transformation des variables temporelles en type datetime\n",
    "df['Ship Date'] = pd.to_datetime(df['Ship Date'])\n",
    "df['Order Date'] = pd.to_datetime(df['Order Date'])\n",
    "df = df.drop(['Postal Code', 'Country'], axis=1) # On supprime ces variables car non pertinentes\n",
    "\n",
    "# On affiche les informations sur les colonnes ainsi qu'une partie du dataframe\n",
    "print(df.info())\n",
    "df.head()"
   ]
  },
  {
   "cell_type": "code",
   "execution_count": null,
   "id": "0400c80f-2636-45ec-8802-aac88eddc63c",
   "metadata": {},
   "outputs": [],
   "source": [
    "# infos statistiques sur les variables quantitatives\n",
    "df.describe()"
   ]
  },
  {
   "cell_type": "code",
   "execution_count": null,
   "id": "11a3e8d8-e383-4b3d-b1bf-6e0fc5cbfad0",
   "metadata": {},
   "outputs": [],
   "source": [
    "desc = []\n",
    "for col in df.columns.to_list():\n",
    "    if df[col].nunique() < 18:\n",
    "        desc.append(''.join(str(df[col].unique())))\n",
    "    elif df[col].nunique() > 18:\n",
    "        desc.append(\"Too many\")\n",
    "        \n",
    "  \n",
    "#df = df.drop(['u', 'Orders'], axis=1)\n",
    "\n",
    "\n",
    "fig = go.Figure(data=[go.Table(\n",
    "    columnwidth=[150, 100, 600], \n",
    "    header=dict(values=['Column', \n",
    "                        'Modes', \n",
    "                        'Description']),\n",
    "                 cells=dict(values=[df.columns.to_list(), \n",
    "                                   [df[col].nunique() for col in df.columns.to_list()], \n",
    "                                   desc], \n",
    "                           align=('center', 'center', 'left'), \n",
    "                           fill=dict(color=['lightsteelblue', 'lightslategrey', 'lightsteelblue']), \n",
    "                           height = 30, \n",
    "                           font=dict(color='black', size=12)))\n",
    "                     ])\n",
    "fig.update_layout(width=1000, height=900, template='plotly_dark')\n",
    "fig.show()"
   ]
  },
  {
   "cell_type": "markdown",
   "id": "65082f08-cfdb-4b8c-9a11-b5725e04a872",
   "metadata": {},
   "source": [
    "## Variables numériques\n",
    "> Ci-dessous on trace la distribution des variables quantitatives"
   ]
  },
  {
   "cell_type": "code",
   "execution_count": null,
   "id": "41153b41-1e6e-4577-9935-bdd423a6d912",
   "metadata": {
    "tags": []
   },
   "outputs": [],
   "source": [
    "# Affichage de la distribution des variables numériques\n",
    "fig = make_subplots(\n",
    "    rows=3, cols=1,\n",
    "    row_heights=[0.3, 0.3, 0.4],\n",
    "    specs=[[{\"type\" : \"box\"}],\n",
    "           [{\"type\" : \"box\"}],\n",
    "           [{\"type\" : \"box\"}]],\n",
    "    subplot_titles=(\"Distribution de la variable Sales\", \n",
    "                    \"Distribution de la variable Profit\", \n",
    "                    \"Distribution de la variable Discount\"))\n",
    "fig.add_trace(go.Box(x=df['Sales'], marker_color = 'royalblue', name='Sales'), 1, 1)\n",
    "fig.add_trace(go.Box(x=df['Profit'], marker_color = 'lightseagreen', name='Profit'), 2, 1)\n",
    "fig.add_trace(go.Box(x=df['Discount'], marker_color = 'lightcoral', name='Discount'), 3, 1)\n",
    "fig.update_layout(height=800, template='plotly_dark')\n",
    "fig.show()"
   ]
  },
  {
   "cell_type": "markdown",
   "id": "2d914d2d-fc35-454a-92fe-c79ee52312c7",
   "metadata": {},
   "source": [
    "> Sales : cette variable a quelques valeurs extrêmes lorsqu'on dépasse 5k d'achats  \n",
    "> Profit : le profit varie de -6k à 8k environ.  \n",
    "> Discount : cette variable détient des valeurs comprises entre 0 et 80% de réduction. La médiane se situant à 20%.  "
   ]
  },
  {
   "cell_type": "code",
   "execution_count": null,
   "id": "6d43fcbe-076b-4a24-bc2f-675c6694aa84",
   "metadata": {
    "tags": []
   },
   "outputs": [],
   "source": [
    "df = df.sort_values('Order Date')\n",
    "\n",
    "# On scinde le dataset par année\n",
    "df_2014 = df[df['Order Date'] <= '2014-12-31']\n",
    "df_2014 = df_2014.groupby('Order Date').mean()\n",
    "df_2015 = df[(df['Order Date'] >= '2015-01-01') & (df['Order Date'] <= '2015-12-31')]\n",
    "df_2015 = df_2015.groupby('Order Date').mean()\n",
    "df_2016 = df[(df['Order Date'] >= '2016-01-01') & (df['Order Date'] <= '2016-12-31')]\n",
    "df_2016 = df_2016.groupby('Order Date').mean()\n",
    "df_2017 = df[(df['Order Date'] >= '2017-01-01') & (df['Order Date'] <= '2017-12-31')]\n",
    "df_2017 = df_2017.groupby('Order Date').mean()\n",
    "df_2018 = df[(df['Order Date'] >= '2018-01-01') & (df['Order Date'] <= '2018-12-31')]\n",
    "df_2018 = df_2018.groupby('Order Date').mean()\n",
    "\n",
    "# Affichage de la plus grosse perte d'argent\n",
    "#df[df['Order Date'] == '2015-01-28']"
   ]
  },
  {
   "cell_type": "markdown",
   "id": "440e731e-b975-4f87-8616-a8298e4ccc08",
   "metadata": {},
   "source": [
    "Après avoir fait la moyenne des ventes par jour, on affiche la variation de Sales et Profit sur le même graphique :"
   ]
  },
  {
   "cell_type": "code",
   "execution_count": null,
   "id": "c85c7dd9-40ba-4b07-968d-b674688188da",
   "metadata": {
    "tags": []
   },
   "outputs": [],
   "source": [
    "# On regroupe les ventes par jour, puis on trace sales et profit dans le temps\n",
    "# mean\n",
    "df_tot = df.groupby('Order Date').agg({'Sales':'mean', 'Profit':'mean'})\n",
    "df_tot = df_tot.sort_values('Order Date', ascending=False)\n",
    "fig = go.Figure()\n",
    "fig.add_trace(go.Scatter(x = df_tot.index, y = df_tot['Sales'], line = dict(color='red', width=2), name = 'Sales'))\n",
    "fig.add_trace(go.Scatter(x = df_tot.index, y = df_tot['Profit'], line = dict(color='green', width=2), name = 'Profit'))\n",
    "fig.update_traces(overwrite=True)\n",
    "fig.update_layout(title = 'Variation de Sales & Profit au cours du temps : moyenne', template='plotly_dark')\n",
    "fig.show()"
   ]
  },
  {
   "cell_type": "markdown",
   "id": "14385333-5062-421c-8bbd-2ffdd24fe945",
   "metadata": {},
   "source": [
    "> On observe certaines valeurs négatives en termes de profit. Il serait intéressant de découvrir pourquoi."
   ]
  },
  {
   "cell_type": "code",
   "execution_count": null,
   "id": "2f7e446b-6226-4e0c-8ffb-6ef92c3afe3a",
   "metadata": {
    "tags": []
   },
   "outputs": [],
   "source": [
    "fig = go.Figure()\n",
    "fig.add_trace(go.Bar(x=df['Discount'][df.Profit < -1000], y=df['Profit'][df.Profit < -1000]))\n",
    "fig.update_layout(barmode='stack', title_text='Profit vs Discount', xaxis_title='Discount', yaxis_title='Profit', template='plotly_dark')\n",
    "fig.show()"
   ]
  },
  {
   "cell_type": "markdown",
   "id": "3408b4a9-56c4-4d7b-81b5-3b06c1fb7131",
   "metadata": {},
   "source": [
    "En effet, les plus grosses promotions induisent les plus grosses pertes de profit."
   ]
  },
  {
   "cell_type": "code",
   "execution_count": null,
   "id": "6b0b622a-6f6e-4cb1-9ca9-0cfa01ec3acb",
   "metadata": {
    "tags": []
   },
   "outputs": [],
   "source": [
    "# profit vs discount across category\n",
    "fig = px.bar(x=df['Discount'][df.Profit < -1000], y=df['Profit'][df.Profit < -1000], color=df['Category'][df.Profit < -1000])\n",
    "fig.update_layout(barmode='stack', \n",
    "                  title_text='Profit vs Discount', \n",
    "                  xaxis_title='Discount', \n",
    "                  yaxis_title='Profit', \n",
    "                  legend_title='Category', \n",
    "                  template='plotly_dark')\n",
    "fig.show()"
   ]
  },
  {
   "cell_type": "markdown",
   "id": "9fef558e-5381-463d-bb2e-f57758944bc5",
   "metadata": {},
   "source": [
    "En affichant les pertes par catégorie, on remarque que les plus grosses pertes sont issues des ventes de fournitures de bureau."
   ]
  },
  {
   "cell_type": "code",
   "execution_count": null,
   "id": "7de1e143-1d1e-405a-8324-e1f187db0e7e",
   "metadata": {
    "tags": []
   },
   "outputs": [],
   "source": [
    "# profit vs discount across region\n",
    "fig = px.bar(x=df['Discount'][df.Profit < -1000], y=df['Profit'][df.Profit < -1000], color=df['Region'][df.Profit < -1000])\n",
    "fig.update_layout(barmode='stack', title_text='Profit vs Discount', xaxis_title='Discount', yaxis_title='Profit', legend_title='Region')\n",
    "fig.show()\n",
    "\n",
    "# profit vs category across sub-category\n",
    "fig = px.bar(x=df['Category'][df.Profit < -1000], y=df['Profit'][df.Profit < -1000], color=df['Sub-Category'][df.Profit < -1000])\n",
    "fig.update_layout(barmode='stack', title_text='Profit vs Category', xaxis_title='Category', yaxis_title='Profit', legend_title='Sub-Category')\n",
    "fig.show()"
   ]
  },
  {
   "cell_type": "markdown",
   "id": "43ad94b4-e228-4682-8ff8-6c7fd6c5f43c",
   "metadata": {},
   "source": [
    "Profit vs Discount :\n",
    "> On voit que les pertes se concentrent sur la région centrale des Etats-Unis, ainsi que la région Est.  \n",
    "\n",
    "Profit vs Category\n",
    "> Ce graphique nous informe que ce sont les classeurs et machines qui constituent les plus grandes pertes."
   ]
  },
  {
   "cell_type": "markdown",
   "id": "4ab8a87b-ac45-4b05-9ca8-bbe647f916d1",
   "metadata": {},
   "source": [
    "## Variables catégorielles\n",
    "On décide maintenant d'afficher la distribution des variables catégorielles :"
   ]
  },
  {
   "cell_type": "code",
   "execution_count": null,
   "id": "31fe8ac8-2ba0-4ce8-b83d-e30af7e010d5",
   "metadata": {
    "tags": []
   },
   "outputs": [],
   "source": [
    "# subplots de la distribution de variables qualitatives\n",
    "fig = make_subplots(rows=2, cols=2)\n",
    "\n",
    "fig.add_trace(go.Histogram(x=df['Ship Mode'], name='Ship Mode', marker_color='darkblue', histnorm='percent'), row=1, col=1)\n",
    "fig.add_trace(go.Histogram(x=df['Segment'], name='Segment', histnorm='percent'), row=1, col=2)\n",
    "fig.add_trace(go.Histogram(x=df['Category'], name='Category', histnorm='percent'), row=2, col=1)\n",
    "fig.add_trace(go.Histogram(x=df['Region'], name='Region', histnorm='percent'), row=2, col=2)\n",
    "\n",
    "fig.update_layout(title = 'Répartition des variables catégorielles',\n",
    "                 yaxis_title = 'Density',\n",
    "                 width = 1000, \n",
    "                 height = 600)\n",
    "                 #template='simple_white')\n",
    "fig.show()\n",
    "\n",
    "# distribution de la variable sub-category\n",
    "fig = go.Figure()\n",
    "fig.add_trace(go.Histogram(x=df['Sub-Category'], name = 'Sub-Category', histnorm='percent', nbinsx=len(df['Sub-Category'].unique())))\n",
    "fig.update_layout(title = 'Sub-Category',\n",
    "                 yaxis_title = 'Density',\n",
    "                 width = 1000, \n",
    "                 height = 400,\n",
    "                 #template='simple_white',\n",
    "                 xaxis={'categoryorder':'total descending'})\n",
    "fig.show()"
   ]
  },
  {
   "cell_type": "markdown",
   "id": "0f7a2d94-a326-4e0c-ba7e-13b9dea7fd4b",
   "metadata": {},
   "source": [
    "> __Ship Mode__ : sans surprise, la classe standard est la préférée des clients.  \n",
    "> __Segment__ : Le plus gros segment est représenté par les particuliers, vient ensuite les sociétés puis le home office.  \n",
    "> __Catgory__ : La catégorie d'objet qui se vend le plus est les fournitures de bureau, puis le mobilier et les objets technologiques en dernier.  \n",
    "> __Region__ : La région Ouest enregistre le plus de ventes."
   ]
  },
  {
   "cell_type": "markdown",
   "id": "a2eea9fc-ced6-49d0-ae3b-31e016ede014",
   "metadata": {},
   "source": [
    "Traçons maintenant la relation entre les ventes et les profits selon les catégories :"
   ]
  },
  {
   "cell_type": "code",
   "execution_count": null,
   "id": "5fe7cdac-63b0-44cf-bc3b-718e29329931",
   "metadata": {
    "tags": []
   },
   "outputs": [],
   "source": [
    "# scatter plot de sales et profit\n",
    "fig = go.Figure()\n",
    "fig = px.scatter(x=df.Sales, y=df.Profit, trendline='ols', color=df.Category)\n",
    "fig.update_layout(title='Sales vs Profit', yaxis_title='Profit', xaxis_title='Sales', legend_title='Category')\n",
    "fig.show()"
   ]
  },
  {
   "cell_type": "markdown",
   "id": "1a4d3c77-3a30-42e0-a7de-a475551fcd09",
   "metadata": {},
   "source": [
    "La catégorie de produits technologiques offre les profits les plus importants."
   ]
  },
  {
   "cell_type": "markdown",
   "id": "136068a3-38d0-4ed2-b481-8ecfb88cb434",
   "metadata": {},
   "source": [
    "## Scatter Geo"
   ]
  },
  {
   "cell_type": "markdown",
   "id": "4276f93a-142b-4cd0-8258-7695d279533d",
   "metadata": {},
   "source": [
    "Après avoir récolter les données géographiques de chaque ville, on les intègre au dataframe afin d'obtenir les latitudes et longitudes pour chaque ville"
   ]
  },
  {
   "cell_type": "code",
   "execution_count": null,
   "id": "150de25c-65df-45a2-a360-e21c1024348e",
   "metadata": {
    "tags": []
   },
   "outputs": [],
   "source": [
    "gf = pd.read_csv('uscities.csv', index_col='id')\n",
    "gf = gf.drop(gf.loc[gf['state_name'] == 'Hawaii'].index.to_list())\n",
    "gf = gf.drop(gf.loc[gf['state_name'] == 'Alaska'].index.to_list())\n",
    "gf = gf.drop(gf.loc[gf['state_name'] == 'Puerto Rico'].index.to_list())\n",
    "gf = gf.drop(gf.loc[gf['city'] == 'New Hempstead'].index.to_list())\n",
    "gf = gf.drop(gf.loc[gf['city'] == 'West Hempstead'].index.to_list())\n",
    "gf = gf[['city', 'state_name', 'lat', 'lng']]\n",
    "\n",
    "gf['city'].loc[gf['city'] == 'New York'] = 'New York City'\n",
    "gf['city'].loc[gf['city'] == 'Fairfield University'] = 'Fairfield'\n",
    "gf['city'].loc[gf['city'] == 'East Orange'] = 'Orange'\n",
    "gf['city'].loc[gf['city'] == 'South Hempstead'] = 'Hempstead'\n",
    "gf['city'].loc[gf['city'] == 'McAllen'] = 'Mcallen'\n",
    "gf['city'].loc[gf['city'] == 'Milford city'] = 'Milford'\n",
    "gf.loc[1840002792, 'city'] = 'East Orange'\n",
    "\n",
    "city_list = []\n",
    "for city in gf['city']:\n",
    "    if 'St.' in city:\n",
    "        city_list.append(city.replace('St.', 'Saint'))\n",
    "    else:\n",
    "        city_list.append(city)  \n",
    "gf['city'] = city_list\n",
    "\n",
    "gf.info()\n",
    "gf.head()"
   ]
  },
  {
   "cell_type": "markdown",
   "id": "fb7bcd9a-c9e6-4be1-b972-63a715cb1ace",
   "metadata": {},
   "source": [
    "On les intègre maintenant à notre dataframe global, en faisant attention aux doublons ou différences orthographiques."
   ]
  },
  {
   "cell_type": "code",
   "execution_count": null,
   "id": "c5fdd65a-e803-4eae-aca4-5fb1c7c8e3e5",
   "metadata": {
    "tags": []
   },
   "outputs": [],
   "source": [
    "# Création du dictionnaire avec pour chaque ville la latitude et la longitude\n",
    "import time\n",
    "start = time.time()\n",
    "d = dict()\n",
    "for i in range(gf.shape[0]):\n",
    "    if gf['state_name'].iloc[i] not in d:\n",
    "        d[gf['state_name'].iloc[i]] = dict()\n",
    "    d[gf['state_name'].iloc[i]].update({gf['city'].iloc[i] : (gf['lat'].iloc[i], gf['lng'].iloc[i])})\n",
    "\n",
    "end = time.time()\n",
    "\n",
    "# On modifie les entrées dans le dataset pour matcher avec celles du dictionnaire\n",
    "d['New Jersey'].update({'Belleville' : (43.7893, -76.1153)})\n",
    "d['New Jersey'].update({'Lakewood' : (42.0992, -79.3201)})\n",
    "d['Connecticut'].update({'Manchester' : (41.780434, -72.541466)})\n",
    "d['Massachusetts'].update({'Franklin' : (42.0834, -71.3967)})\n",
    "d['Michigan'].update({'Canton' : (42.308644, -83.482116)})\n",
    "d['New Jersey'].update({'Bridgeton' : (39.429564, -75.230461)})\n",
    "d['Connecticut'].update({'Milford' : (41.230698, -73.064034)})\n",
    "d['Massachusetts'].update({'Andover' : (42.658336, -71.136795)}) \n",
    "d['New Jersey'].update({'Orange' : (40.7651, -74.2117)}) \n",
    "\n",
    "lat = []\n",
    "lng = []\n",
    "for n in range(df.shape[0]):\n",
    "    lat.append(d[df['State'].iloc[n]][df['City'].iloc[n]][0])\n",
    "    lng.append(d[df['State'].iloc[n]][df['City'].iloc[n]][1])\n",
    "\n",
    "df['lat'] = lat\n",
    "df['lng'] = lng\n",
    "print(f'performed in : {end-start} seconds')"
   ]
  },
  {
   "cell_type": "markdown",
   "id": "cb300178-bde6-4fa1-92a1-e4e065c48b70",
   "metadata": {},
   "source": [
    "On effectue au préalable un groupby qui permet d'afficher les moyennes des ventes par ville"
   ]
  },
  {
   "cell_type": "code",
   "execution_count": null,
   "id": "0061ea79-2ea2-4f5c-9205-7ed7cc898f24",
   "metadata": {
    "tags": []
   },
   "outputs": [],
   "source": [
    "lt = []\n",
    "ln = []\n",
    "ml = pd.DataFrame(df.groupby(['State', 'City']).mean())\n",
    "\n",
    "for n in range(ml.shape[0]):\n",
    "    lt.append(d[ml.index[n][0]][ml.index[n][1]][0])\n",
    "    ln.append(d[ml.index[n][0]][ml.index[n][1]][1])\n",
    "\n",
    "ml['lat'] = lt\n",
    "ml['lng'] = ln\n",
    "ml.head()"
   ]
  },
  {
   "cell_type": "code",
   "execution_count": null,
   "id": "9c80880a-56f0-488a-8e47-0f1b6901731b",
   "metadata": {
    "tags": []
   },
   "outputs": [],
   "source": [
    "cities = [ml.index[i][1] for i in range(ml.shape[0])] # permet d'avoir une liste contenant le nom des villes"
   ]
  },
  {
   "cell_type": "markdown",
   "id": "641fb50a-fdef-4db9-b207-cb1944ce5e67",
   "metadata": {},
   "source": [
    "**Scatter Geo** nous permet d'afficher pour chaque ville, les variables qu'on souhaite, sous forme de bulles dont la taille est définie par la variable choisie."
   ]
  },
  {
   "cell_type": "code",
   "execution_count": null,
   "id": "1397bfbb-f161-4672-a51c-08f3ca388fef",
   "metadata": {
    "tags": []
   },
   "outputs": [],
   "source": [
    "fig = px.scatter_geo(\n",
    "    ml,\n",
    "    lat=ml['lat'],\n",
    "    lon=ml['lng'],\n",
    "    size = ml['Sales'],\n",
    "    hover_name = cities,\n",
    "    color = ml['Profit'],\n",
    "    width=1000,\n",
    "    height=800\n",
    ")\n",
    "\n",
    "fig.update_layout(\n",
    "        title = 'Average sales by city across profit',\n",
    "        geo_scope ='usa',\n",
    "    )\n",
    "fig.show()"
   ]
  },
  {
   "cell_type": "markdown",
   "id": "d02fbfa5-5e10-42ce-8654-081b719914b4",
   "metadata": {},
   "source": [
    "On distingue bien les villes qui obtiennent les meilleurs profits, telles que : Jamestown, Lafayette, Independance..."
   ]
  },
  {
   "cell_type": "markdown",
   "id": "ea1a8249-6fce-459a-9204-6901bb696976",
   "metadata": {
    "tags": []
   },
   "source": [
    "# KPI\n",
    "\n",
    "Attelons-nous à afficher certains KPIs tel que le panier moyen par exemple :"
   ]
  },
  {
   "cell_type": "code",
   "execution_count": null,
   "id": "5cb3d25b-60d4-49a1-8f8d-2a125aefa37e",
   "metadata": {
    "tags": []
   },
   "outputs": [],
   "source": [
    "# panier moyen = CA / nombre de commandes \n",
    "#df['Orders'] = np.ones(df.shape[0], int)\n",
    "hf = df.groupby('Customer ID').agg({'Sales':'mean', 'Profit':'mean', 'Orders':'sum'}).reset_index()\n",
    "hf = hf.sort_values('Customer ID', ascending=True)\n",
    "bf = df.groupby('City').agg({'Sales':'mean', 'Profit':'mean', 'Orders':'sum'}).reset_index()\n",
    "bf = bf.sort_values('City', ascending=True)\n",
    "\n",
    "hf['avg basket'] = hf['Sales'] / hf['Orders']\n",
    "bf['avg basket'] = bf['Sales'] / bf['Orders']\n",
    "\n",
    "fig = go.Figure()\n",
    "fig.add_trace(go.Bar(x=hf['Customer ID'], y=hf['avg basket']))\n",
    "fig.update_layout(title='Average basket per customer', xaxis_title='Customer ID', yaxis_title='Average basket')\n",
    "fig.update_xaxes(tickangle=-60)\n",
    "fig.show()\n",
    "\n",
    "fig = go.Figure()\n",
    "fig.add_trace(go.Bar(x=bf['City'], y=bf['avg basket']))\n",
    "fig.update_layout(title='Average basket per city', xaxis_title='City', yaxis_title='Average basket')\n",
    "fig.update_xaxes(tickangle=-60)\n",
    "fig.show()"
   ]
  },
  {
   "cell_type": "markdown",
   "id": "9c4c7e6c-a815-4068-8c2e-a888cb4933bd",
   "metadata": {},
   "source": [
    "# Analyse statistique"
   ]
  },
  {
   "cell_type": "markdown",
   "id": "1a6f69dc-0d11-42fb-a135-9e40b4088780",
   "metadata": {},
   "source": [
    "On peut en premier lieu, utiliser le test de _Pearson_, qui nous informe sur la corrélation entre variables quantitatives :"
   ]
  },
  {
   "cell_type": "code",
   "execution_count": null,
   "id": "e4c6f61a-8454-4d21-8908-48ccc5118b64",
   "metadata": {
    "tags": []
   },
   "outputs": [],
   "source": [
    "plt.figure(figsize=(10,8))\n",
    "sns.heatmap(df.corr(), annot=True,cmap='viridis');\n",
    "plt.title('Coefficient de Pearson');"
   ]
  },
  {
   "cell_type": "markdown",
   "id": "7208807c-6e73-4ba7-a1a1-7de059ea3114",
   "metadata": {},
   "source": [
    "> Il existe aussi le test _ANOVA_, qui permet de déterminer la corrélation entre variables numériques et catégorielles."
   ]
  },
  {
   "cell_type": "code",
   "execution_count": null,
   "id": "682305f3-c1d8-4724-a44c-05b935be355f",
   "metadata": {
    "tags": []
   },
   "outputs": [],
   "source": [
    "import statsmodels.api\n",
    "result = statsmodels.formula.api.ols('Profit ~ Category', data=df).fit()\n",
    "table = statsmodels.api.stats.anova_lm(result)\n",
    "print('ANOVA TEST : Profit vs Category')\n",
    "table"
   ]
  },
  {
   "cell_type": "markdown",
   "id": "11a51523-abcd-4df7-a16f-967106f06509",
   "metadata": {},
   "source": [
    "Le test ANOVA calcule 2 valeurs importantes : La statistique F et la p-value. Plus F est élevée moins les variables sont corrélées. Inversement proportionnelle avec la p-value."
   ]
  },
  {
   "cell_type": "markdown",
   "id": "a29a4820-d959-4ee6-adb0-6120c84c3ac8",
   "metadata": {},
   "source": [
    "Enfin, le test du Chi 2 permet d'analyser les variables catégorielles et mettre en évidence leur corrélation."
   ]
  },
  {
   "cell_type": "code",
   "execution_count": null,
   "id": "fe7bf7c4-ff0f-44ad-b8c0-1af4bfba055f",
   "metadata": {
    "tags": []
   },
   "outputs": [],
   "source": [
    "from scipy.stats import chi2_contingency\n",
    "df_cat = df.select_dtypes('object')\n",
    "def V_Cramer(table, N):\n",
    "    stat_chi2 = chi2_contingency(table)[0]\n",
    "    k = table.shape[0]\n",
    "    r = table.shape[1]\n",
    "    phi_2 = max(0,(stat_chi2)/N - ((k - 1)*(r - 1)/(N - 1)))\n",
    "    k_b = k - (np.square(k - 1) / (N - 1))\n",
    "    r_b = r - (np.square(r - 1) / (N - 1))   \n",
    "    return np.sqrt(phi_2 / min(k_b - 1, r_b - 1))\n",
    "\n",
    "\n",
    "dico = {}\n",
    "for col in df_cat.columns[df_cat.columns != 'Sales']:\n",
    "    table = pd.crosstab(df_cat[col], df['Sales'])\n",
    "    res = chi2_contingency(table)\n",
    "    dico[col] = [res[0], res[1], res[2], V_Cramer(table, df.shape[0])]\n",
    "    \n",
    "    \n",
    "stats = pd.DataFrame.from_dict(dico).transpose()\n",
    "stats = stats.rename(columns={0:'$\\chi 2$', 1:'p-value', 2:'DoF', 3:'V de Cramer'})\n",
    "stats"
   ]
  }
 ],
 "metadata": {
  "kernelspec": {
   "display_name": "Python 3 (ipykernel)",
   "language": "python",
   "name": "python3"
  },
  "language_info": {
   "codemirror_mode": {
    "name": "ipython",
    "version": 3
   },
   "file_extension": ".py",
   "mimetype": "text/x-python",
   "name": "python",
   "nbconvert_exporter": "python",
   "pygments_lexer": "ipython3",
   "version": "3.8.2"
  }
 },
 "nbformat": 4,
 "nbformat_minor": 5
}
